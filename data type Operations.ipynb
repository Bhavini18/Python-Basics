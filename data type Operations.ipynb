{
 "cells": [
  {
   "cell_type": "raw",
   "metadata": {
    "colab_type": "text",
    "id": "3rJl1IuGNDuW"
   },
   "source": [
    "1. For the given lists answer the below questions \n",
    "List1 = ['a','b','c']  \n",
    "List2 = [1,2,3,4]"
   ]
  },
  {
   "cell_type": "code",
   "execution_count": 1,
   "metadata": {},
   "outputs": [],
   "source": [
    "List1 = ['a','b','c']  \n",
    "List2 = [1,2,3,4]"
   ]
  },
  {
   "cell_type": "raw",
   "metadata": {
    "colab_type": "text",
    "id": "5LdqB7aSNDuX"
   },
   "source": [
    "1.A. Repeat the elements present in list1 thrice\n",
    "Output should be ['a', 'b', 'c', 'a', 'b', 'c', 'a', 'b', 'c']"
   ]
  },
  {
   "cell_type": "code",
   "execution_count": 2,
   "metadata": {
    "colab": {},
    "colab_type": "code",
    "id": "RT9WxCvUNDuY"
   },
   "outputs": [
    {
     "data": {
      "text/plain": [
       "['a', 'b', 'c', 'a', 'b', 'c', 'a', 'b', 'c']"
      ]
     },
     "execution_count": 2,
     "metadata": {},
     "output_type": "execute_result"
    }
   ],
   "source": [
    "List1*3"
   ]
  },
  {
   "cell_type": "raw",
   "metadata": {
    "colab_type": "text",
    "id": "DXPXh29DNDub"
   },
   "source": [
    "1.B.Concat the elements present in list1 and list2"
   ]
  },
  {
   "cell_type": "code",
   "execution_count": 3,
   "metadata": {
    "colab": {},
    "colab_type": "code",
    "id": "DeSeXnX3NDuc"
   },
   "outputs": [
    {
     "data": {
      "text/plain": [
       "['a', 'b', 'c', 1, 2, 3, 4]"
      ]
     },
     "execution_count": 3,
     "metadata": {},
     "output_type": "execute_result"
    }
   ],
   "source": [
    "List1 + List2"
   ]
  },
  {
   "cell_type": "raw",
   "metadata": {
    "colab_type": "text",
    "id": "pml7ky7kNDue"
   },
   "source": [
    "1.C. Use list1, check whether character 'a' is present in the list"
   ]
  },
  {
   "cell_type": "code",
   "execution_count": 5,
   "metadata": {
    "colab": {},
    "colab_type": "code",
    "id": "bDjtmOTxNDuf"
   },
   "outputs": [
    {
     "data": {
      "text/plain": [
       "True"
      ]
     },
     "execution_count": 5,
     "metadata": {},
     "output_type": "execute_result"
    }
   ],
   "source": [
    "bool (List1.count('a'))"
   ]
  },
  {
   "cell_type": "raw",
   "metadata": {
    "colab_type": "text",
    "id": "HFjYnNCMNDuh"
   },
   "source": [
    "1.D. Check the length of list1"
   ]
  },
  {
   "cell_type": "code",
   "execution_count": 6,
   "metadata": {
    "colab": {},
    "colab_type": "code",
    "id": "nyYVbkpoNDuh"
   },
   "outputs": [
    {
     "data": {
      "text/plain": [
       "3"
      ]
     },
     "execution_count": 6,
     "metadata": {},
     "output_type": "execute_result"
    }
   ],
   "source": [
    "len(List1)"
   ]
  },
  {
   "cell_type": "raw",
   "metadata": {
    "colab_type": "text",
    "id": "X2q_9d2iNDuk"
   },
   "source": [
    "1.E. Using for loop iterate over the elements present in the list and print it"
   ]
  },
  {
   "cell_type": "code",
   "execution_count": 9,
   "metadata": {
    "colab": {},
    "colab_type": "code",
    "id": "NE7U7b63NDul"
   },
   "outputs": [
    {
     "name": "stdout",
     "output_type": "stream",
     "text": [
      "a\n",
      "b\n",
      "c\n"
     ]
    }
   ],
   "source": [
    "for i in List1:\n",
    "    print(i)"
   ]
  },
  {
   "cell_type": "raw",
   "metadata": {
    "colab_type": "text",
    "id": "by7bBXV2NDun"
   },
   "source": [
    "2. Using the below tuple, answer the below questions\n",
    "  Tuple1 = (11,4,21,4,115,6,13,51,4,16,77,8,17,17,876,89,8765,14,51,11,876,9,3456,4234)\n"
   ]
  },
  {
   "cell_type": "code",
   "execution_count": 10,
   "metadata": {},
   "outputs": [],
   "source": [
    "Tuple1 = (11,4,21,4,115,6,13,51,4,16,77,8,17,17,876,89,8765,14,51,11,876,9,3456,4234)\n"
   ]
  },
  {
   "cell_type": "raw",
   "metadata": {
    "colab_type": "text",
    "id": "sYO5rayHNDun"
   },
   "source": [
    "2.A. Fetch the item in tuple with maximum value"
   ]
  },
  {
   "cell_type": "code",
   "execution_count": 11,
   "metadata": {
    "colab": {},
    "colab_type": "code",
    "id": "0813gtlsNDuo"
   },
   "outputs": [
    {
     "data": {
      "text/plain": [
       "8765"
      ]
     },
     "execution_count": 11,
     "metadata": {},
     "output_type": "execute_result"
    }
   ],
   "source": [
    "max(Tuple1)"
   ]
  },
  {
   "cell_type": "raw",
   "metadata": {
    "colab_type": "text",
    "id": "XcymUbppNDur"
   },
   "source": [
    "2.B.  Fetch the item in tuple with minimum value"
   ]
  },
  {
   "cell_type": "code",
   "execution_count": 12,
   "metadata": {
    "colab": {},
    "colab_type": "code",
    "id": "lpmQA7pjNDur"
   },
   "outputs": [
    {
     "data": {
      "text/plain": [
       "4"
      ]
     },
     "execution_count": 12,
     "metadata": {},
     "output_type": "execute_result"
    }
   ],
   "source": [
    "min(Tuple1)"
   ]
  },
  {
   "cell_type": "raw",
   "metadata": {
    "colab_type": "text",
    "id": "SRVy5lcVNDut"
   },
   "source": [
    "2.C.Convert the string 'my string' to a tuple"
   ]
  },
  {
   "cell_type": "code",
   "execution_count": 13,
   "metadata": {
    "colab": {},
    "colab_type": "code",
    "id": "w922ZfGcNDuu"
   },
   "outputs": [
    {
     "data": {
      "text/plain": [
       "('m', 'y', ' ', 's', 't', 'r', 'i', 'n', 'g')"
      ]
     },
     "execution_count": 13,
     "metadata": {},
     "output_type": "execute_result"
    }
   ],
   "source": [
    "string='my string'\n",
    "tup=tuple(string)\n",
    "tup"
   ]
  },
  {
   "cell_type": "raw",
   "metadata": {
    "colab_type": "text",
    "id": "zoglai2INDuw"
   },
   "source": [
    "3. Use the below list and answer the below questions\n",
    "           List = ['white','red', 'blue', 'green','blue','yellow', 'black']\n"
   ]
  },
  {
   "cell_type": "code",
   "execution_count": 14,
   "metadata": {},
   "outputs": [],
   "source": [
    "     List = ['white','red', 'blue', 'green','blue','yellow', 'black']"
   ]
  },
  {
   "cell_type": "raw",
   "metadata": {
    "colab_type": "text",
    "id": "BtWytSvENDuw"
   },
   "source": [
    "3.A) Append 'C' to the list"
   ]
  },
  {
   "cell_type": "code",
   "execution_count": 17,
   "metadata": {
    "colab": {},
    "colab_type": "code",
    "id": "muqTp3oONDux"
   },
   "outputs": [
    {
     "data": {
      "text/plain": [
       "['white', 'red', 'blue', 'green', 'blue', 'yellow', 'black', 'C']"
      ]
     },
     "execution_count": 17,
     "metadata": {},
     "output_type": "execute_result"
    }
   ],
   "source": [
    "List.append('C')\n",
    "List"
   ]
  },
  {
   "cell_type": "raw",
   "metadata": {
    "colab_type": "text",
    "id": "hBDf5ARONDu2"
   },
   "source": [
    "3.B) Clear all the elements present in the list."
   ]
  },
  {
   "cell_type": "code",
   "execution_count": 20,
   "metadata": {
    "colab": {},
    "colab_type": "code",
    "id": "rQLMpwXkNDu3"
   },
   "outputs": [
    {
     "data": {
      "text/plain": [
       "[]"
      ]
     },
     "execution_count": 20,
     "metadata": {},
     "output_type": "execute_result"
    }
   ],
   "source": [
    "#List_Dup=List.copy()\n",
    "#List_Dup\n",
    "List.clear()\n",
    "List"
   ]
  },
  {
   "cell_type": "raw",
   "metadata": {
    "colab_type": "text",
    "id": "Xwjs9u24NDu7"
   },
   "source": [
    "3.C) Copy the list and store it in another variable."
   ]
  },
  {
   "cell_type": "code",
   "execution_count": 21,
   "metadata": {
    "colab": {},
    "colab_type": "code",
    "id": "rDTtMNlZNDu8"
   },
   "outputs": [
    {
     "data": {
      "text/plain": [
       "['white', 'red', 'blue', 'green', 'blue', 'yellow', 'black', 'C']"
      ]
     },
     "execution_count": 21,
     "metadata": {},
     "output_type": "execute_result"
    }
   ],
   "source": [
    "List_Dup=List.copy()\n",
    "List_Dup"
   ]
  },
  {
   "cell_type": "raw",
   "metadata": {
    "colab_type": "text",
    "id": "aWKmQpzPNDu-"
   },
   "source": [
    "3. D) Count how many times 'blue' is present in the list"
   ]
  },
  {
   "cell_type": "code",
   "execution_count": 22,
   "metadata": {
    "colab": {},
    "colab_type": "code",
    "id": "hJDqcqddNDu_"
   },
   "outputs": [
    {
     "data": {
      "text/plain": [
       "2"
      ]
     },
     "execution_count": 22,
     "metadata": {},
     "output_type": "execute_result"
    }
   ],
   "source": [
    "List_Dup.count('blue')"
   ]
  },
  {
   "cell_type": "raw",
   "metadata": {
    "colab_type": "text",
    "id": "5_LVtewTNDvB"
   },
   "source": [
    "3.E) Append List1 = ['a', 'e', 'i', 'o', 'i', 'u','y','w','tre','ytre','uyt'] to the existing list"
   ]
  },
  {
   "cell_type": "code",
   "execution_count": 24,
   "metadata": {
    "colab": {},
    "colab_type": "code",
    "id": "f1-JQ0-PNDvC"
   },
   "outputs": [
    {
     "data": {
      "text/plain": [
       "['white',\n",
       " 'red',\n",
       " 'blue',\n",
       " 'green',\n",
       " 'blue',\n",
       " 'yellow',\n",
       " 'black',\n",
       " 'C',\n",
       " ['a', 'e', 'i', 'o', 'i', 'u', 'y', 'w', 'tre', 'ytre', 'uyt']]"
      ]
     },
     "execution_count": 24,
     "metadata": {},
     "output_type": "execute_result"
    }
   ],
   "source": [
    "List1 = ['a', 'e', 'i', 'o', 'i', 'u','y','w','tre','ytre','uyt']\n",
    "List_Dup.append(List1)\n",
    "List_Dup"
   ]
  },
  {
   "cell_type": "raw",
   "metadata": {
    "colab_type": "text",
    "id": "bCp1Tmh5NDvE"
   },
   "source": [
    "3.F) Find the index position of 'red'"
   ]
  },
  {
   "cell_type": "code",
   "execution_count": 25,
   "metadata": {
    "colab": {},
    "colab_type": "code",
    "id": "W4EPXQ2DNDvF"
   },
   "outputs": [
    {
     "data": {
      "text/plain": [
       "1"
      ]
     },
     "execution_count": 25,
     "metadata": {},
     "output_type": "execute_result"
    }
   ],
   "source": [
    "List_Dup.index('red')"
   ]
  },
  {
   "cell_type": "raw",
   "metadata": {
    "colab_type": "text",
    "id": "bBgon2JMNDvK"
   },
   "source": [
    "3.G) Insert letter 'o' in index position 3 "
   ]
  },
  {
   "cell_type": "code",
   "execution_count": 32,
   "metadata": {
    "colab": {},
    "colab_type": "code",
    "id": "s7gHxBgoNDvK"
   },
   "outputs": [
    {
     "data": {
      "text/plain": [
       "['white',\n",
       " 'red',\n",
       " 'blue',\n",
       " 'o',\n",
       " 'green',\n",
       " 'blue',\n",
       " 'yellow',\n",
       " 'black',\n",
       " 'C',\n",
       " ['a', 'e', 'i', 'o', 'i', 'u', 'y', 'w', 'tre', 'ytre', 'uyt']]"
      ]
     },
     "execution_count": 32,
     "metadata": {},
     "output_type": "execute_result"
    }
   ],
   "source": [
    "List_Dup.insert(3,'o')\n",
    "List_Dup"
   ]
  },
  {
   "cell_type": "raw",
   "metadata": {
    "colab_type": "text",
    "id": "mtkDfja8NDvN"
   },
   "source": [
    "3.H) Remove the list element present in index position 3"
   ]
  },
  {
   "cell_type": "code",
   "execution_count": 33,
   "metadata": {
    "colab": {},
    "colab_type": "code",
    "id": "vJ3WawWZNDvO"
   },
   "outputs": [
    {
     "data": {
      "text/plain": [
       "['white',\n",
       " 'red',\n",
       " 'blue',\n",
       " 'green',\n",
       " 'blue',\n",
       " 'yellow',\n",
       " 'black',\n",
       " 'C',\n",
       " ['a', 'e', 'i', 'o', 'i', 'u', 'y', 'w', 'tre', 'ytre', 'uyt']]"
      ]
     },
     "execution_count": 33,
     "metadata": {},
     "output_type": "execute_result"
    }
   ],
   "source": [
    "List_Dup.pop(3)\n",
    "List_Dup"
   ]
  },
  {
   "cell_type": "raw",
   "metadata": {
    "colab_type": "text",
    "id": "gpm1RipgNDvQ"
   },
   "source": [
    "3.I) Remove 'blue' from the list"
   ]
  },
  {
   "cell_type": "code",
   "execution_count": 34,
   "metadata": {
    "colab": {},
    "colab_type": "code",
    "id": "k3_nd5SyNDvQ"
   },
   "outputs": [
    {
     "data": {
      "text/plain": [
       "['white',\n",
       " 'red',\n",
       " 'green',\n",
       " 'blue',\n",
       " 'yellow',\n",
       " 'black',\n",
       " 'C',\n",
       " ['a', 'e', 'i', 'o', 'i', 'u', 'y', 'w', 'tre', 'ytre', 'uyt']]"
      ]
     },
     "execution_count": 34,
     "metadata": {},
     "output_type": "execute_result"
    }
   ],
   "source": [
    "List_Dup.remove('blue')\n",
    "List_Dup"
   ]
  },
  {
   "cell_type": "raw",
   "metadata": {
    "colab_type": "text",
    "id": "O1fnWG0PNDvS"
   },
   "source": [
    "3.j) Reverse all the elements present in the list"
   ]
  },
  {
   "cell_type": "code",
   "execution_count": 36,
   "metadata": {
    "colab": {},
    "colab_type": "code",
    "id": "wx46wVlWNDvS"
   },
   "outputs": [
    {
     "data": {
      "text/plain": [
       "[['a', 'e', 'i', 'o', 'i', 'u', 'y', 'w', 'tre', 'ytre', 'uyt'],\n",
       " 'C',\n",
       " 'black',\n",
       " 'yellow',\n",
       " 'blue',\n",
       " 'green',\n",
       " 'red',\n",
       " 'white']"
      ]
     },
     "execution_count": 36,
     "metadata": {},
     "output_type": "execute_result"
    }
   ],
   "source": [
    "List_Dup.reverse()\n",
    "List_Dup"
   ]
  },
  {
   "cell_type": "raw",
   "metadata": {
    "colab_type": "text",
    "id": "iihpj6eLNDvU"
   },
   "source": [
    "3.K) Sort the list in ascending order"
   ]
  },
  {
   "cell_type": "code",
   "execution_count": 39,
   "metadata": {
    "colab": {},
    "colab_type": "code",
    "id": "jnDgiTRkNDvV"
   },
   "outputs": [
    {
     "ename": "TypeError",
     "evalue": "'<' not supported between instances of 'str' and 'list'",
     "output_type": "error",
     "traceback": [
      "\u001b[1;31m---------------------------------------------------------------------------\u001b[0m",
      "\u001b[1;31mTypeError\u001b[0m                                 Traceback (most recent call last)",
      "\u001b[1;32m<ipython-input-39-bb11646d193a>\u001b[0m in \u001b[0;36m<module>\u001b[1;34m\u001b[0m\n\u001b[1;32m----> 1\u001b[1;33m \u001b[0mx\u001b[0m\u001b[1;33m=\u001b[0m\u001b[0msorted\u001b[0m\u001b[1;33m(\u001b[0m\u001b[0mList_Dup\u001b[0m\u001b[1;33m)\u001b[0m\u001b[1;33m\u001b[0m\u001b[1;33m\u001b[0m\u001b[0m\n\u001b[0m\u001b[0;32m      2\u001b[0m \u001b[0mprint\u001b[0m\u001b[1;33m(\u001b[0m\u001b[0mx\u001b[0m\u001b[1;33m)\u001b[0m\u001b[1;33m\u001b[0m\u001b[1;33m\u001b[0m\u001b[0m\n",
      "\u001b[1;31mTypeError\u001b[0m: '<' not supported between instances of 'str' and 'list'"
     ]
    }
   ],
   "source": [
    "x=sorted(List_Dup)\n",
    "print(x)"
   ]
  },
  {
   "cell_type": "raw",
   "metadata": {
    "colab_type": "text",
    "id": "GpGUQUZvNDvX"
   },
   "source": [
    "4. Use the below sets and perform union, intersection, difference and symmetric difference\n",
    "\n",
    "        Set1 = {1,4,3,4,4,3,5,6,7,8,9,6,8,5,436,54,876,9876,87654,787654,56}\n",
    "        Set2 = {9,8,9,5,7,4,6,57,88,7654,8,876,678,8765,45,6789,8765,467,887,65}\n",
    "    "
   ]
  },
  {
   "cell_type": "code",
   "execution_count": 41,
   "metadata": {},
   "outputs": [],
   "source": [
    "Set1 = {1,4,3,4,4,3,5,6,7,8,9,6,8,5,436,54,876,9876,87654,787654,56}\n",
    "Set2 = {9,8,9,5,7,4,6,57,88,7654,8,876,678,8765,45,6789,8765,467,887,65}\n",
    "    "
   ]
  },
  {
   "cell_type": "raw",
   "metadata": {},
   "source": [
    "Union:"
   ]
  },
  {
   "cell_type": "code",
   "execution_count": 42,
   "metadata": {
    "colab": {},
    "colab_type": "code",
    "id": "fKdGvjGBNDvY"
   },
   "outputs": [
    {
     "data": {
      "text/plain": [
       "{1,\n",
       " 3,\n",
       " 4,\n",
       " 5,\n",
       " 6,\n",
       " 7,\n",
       " 8,\n",
       " 9,\n",
       " 45,\n",
       " 54,\n",
       " 56,\n",
       " 57,\n",
       " 65,\n",
       " 88,\n",
       " 436,\n",
       " 467,\n",
       " 678,\n",
       " 876,\n",
       " 887,\n",
       " 6789,\n",
       " 7654,\n",
       " 8765,\n",
       " 9876,\n",
       " 87654,\n",
       " 787654}"
      ]
     },
     "execution_count": 42,
     "metadata": {},
     "output_type": "execute_result"
    }
   ],
   "source": [
    "Set1.union(Set2)"
   ]
  },
  {
   "cell_type": "raw",
   "metadata": {
    "colab_type": "text",
    "id": "Lr0LV0YbNDvc"
   },
   "source": [
    "Intersection:"
   ]
  },
  {
   "cell_type": "code",
   "execution_count": 43,
   "metadata": {
    "colab": {},
    "colab_type": "code",
    "id": "Eru4gzGDNDvd"
   },
   "outputs": [
    {
     "data": {
      "text/plain": [
       "{4, 5, 6, 7, 8, 9, 876}"
      ]
     },
     "execution_count": 43,
     "metadata": {},
     "output_type": "execute_result"
    }
   ],
   "source": [
    "Set1.intersection(Set2)"
   ]
  },
  {
   "cell_type": "raw",
   "metadata": {
    "colab_type": "text",
    "id": "-f1doL1INDvg"
   },
   "source": [
    "Difference:"
   ]
  },
  {
   "cell_type": "code",
   "execution_count": 44,
   "metadata": {
    "colab": {},
    "colab_type": "code",
    "id": "Y3lupr_7NDvh"
   },
   "outputs": [
    {
     "data": {
      "text/plain": [
       "{1, 3, 54, 56, 436, 9876, 87654, 787654}"
      ]
     },
     "execution_count": 44,
     "metadata": {},
     "output_type": "execute_result"
    }
   ],
   "source": [
    "Set1.difference(Set2)"
   ]
  },
  {
   "cell_type": "raw",
   "metadata": {
    "colab_type": "text",
    "id": "kPnoCMmENDvj"
   },
   "source": [
    "Symmetric difference:"
   ]
  },
  {
   "cell_type": "code",
   "execution_count": 45,
   "metadata": {
    "colab": {},
    "colab_type": "code",
    "id": "Idek56PJNDvk"
   },
   "outputs": [
    {
     "data": {
      "text/plain": [
       "{1,\n",
       " 3,\n",
       " 45,\n",
       " 54,\n",
       " 56,\n",
       " 57,\n",
       " 65,\n",
       " 88,\n",
       " 436,\n",
       " 467,\n",
       " 678,\n",
       " 887,\n",
       " 6789,\n",
       " 7654,\n",
       " 8765,\n",
       " 9876,\n",
       " 87654,\n",
       " 787654}"
      ]
     },
     "execution_count": 45,
     "metadata": {},
     "output_type": "execute_result"
    }
   ],
   "source": [
    "Set1.symmetric_difference(Set2)\n"
   ]
  },
  {
   "cell_type": "raw",
   "metadata": {
    "colab_type": "text",
    "id": "ujkvS9qJNDvn"
   },
   "source": [
    "5. Use the given dictionary and answer the below questions\n",
    "\n",
    "                            dictionaries = {'a': 'alpha', 'o': 'omega', 'g': 'gamma'}"
   ]
  },
  {
   "cell_type": "code",
   "execution_count": 46,
   "metadata": {},
   "outputs": [],
   "source": [
    "dictionaries = {'a': 'alpha', 'o': 'omega', 'g': 'gamma'}"
   ]
  },
  {
   "cell_type": "raw",
   "metadata": {
    "colab_type": "text",
    "id": "AZPNS03zNDvo"
   },
   "source": [
    "5.A) Wipe out all the items present in the dictionary"
   ]
  },
  {
   "cell_type": "code",
   "execution_count": 51,
   "metadata": {
    "colab": {},
    "colab_type": "code",
    "id": "EBbzUz5HNDvo"
   },
   "outputs": [
    {
     "data": {
      "text/plain": [
       "{}"
      ]
     },
     "execution_count": 51,
     "metadata": {},
     "output_type": "execute_result"
    }
   ],
   "source": [
    "#z=dictionaries.copy()\n",
    "#z\n",
    "dictionaries.clear()\n",
    "dictionaries"
   ]
  },
  {
   "cell_type": "raw",
   "metadata": {
    "colab_type": "text",
    "id": "Q_9tfFfdNDvw"
   },
   "source": [
    "5.B) Copy all the items present in the dictionary to create a new variable"
   ]
  },
  {
   "cell_type": "code",
   "execution_count": 52,
   "metadata": {
    "colab": {},
    "colab_type": "code",
    "id": "U_QbHv6bNDvw"
   },
   "outputs": [
    {
     "data": {
      "text/plain": [
       "{'a': 'alpha', 'o': 'omega', 'g': 'gamma'}"
      ]
     },
     "execution_count": 52,
     "metadata": {},
     "output_type": "execute_result"
    }
   ],
   "source": [
    "z=dictionaries.copy()\n",
    "z"
   ]
  },
  {
   "cell_type": "raw",
   "metadata": {
    "colab_type": "text",
    "id": "wxwkAmPyNDvy"
   },
   "source": [
    "5.C) How to get the output: {'a': None, 'o': None, 'e': None, 'u': None, 'i': None}"
   ]
  },
  {
   "cell_type": "code",
   "execution_count": 54,
   "metadata": {
    "colab": {},
    "colab_type": "code",
    "id": "dlMpsEqhNDvz"
   },
   "outputs": [
    {
     "name": "stdout",
     "output_type": "stream",
     "text": [
      "Output : {'a': None, 'e': None, 'i': None, 'o': None, 'u': None}\n"
     ]
    }
   ],
   "source": [
    "List_sample=['a','e','i','o','u']\n",
    "Dictionary2=dict.fromkeys(List_sample)\n",
    "print(\"Output :\", str(Dictionary2))"
   ]
  },
  {
   "cell_type": "raw",
   "metadata": {
    "colab_type": "text",
    "id": "H-Q6pM38NDv1"
   },
   "source": [
    "5.D) Fetch all the items present in the dictionary"
   ]
  },
  {
   "cell_type": "code",
   "execution_count": 55,
   "metadata": {
    "colab": {},
    "colab_type": "code",
    "id": "WRfHDTYhNDv1"
   },
   "outputs": [
    {
     "data": {
      "text/plain": [
       "dict_items([('a', None), ('e', None), ('i', None), ('o', None), ('u', None)])"
      ]
     },
     "execution_count": 55,
     "metadata": {},
     "output_type": "execute_result"
    }
   ],
   "source": [
    "Dictionary2.items()"
   ]
  },
  {
   "cell_type": "raw",
   "metadata": {
    "colab_type": "text",
    "id": "hZz9h2bMNDv4"
   },
   "source": [
    "5.E) Fetch only the keys from the dictionary"
   ]
  },
  {
   "cell_type": "code",
   "execution_count": 56,
   "metadata": {
    "colab": {},
    "colab_type": "code",
    "id": "P4Zs0pszNDv4"
   },
   "outputs": [
    {
     "data": {
      "text/plain": [
       "dict_keys(['a', 'e', 'i', 'o', 'u'])"
      ]
     },
     "execution_count": 56,
     "metadata": {},
     "output_type": "execute_result"
    }
   ],
   "source": [
    "Dictionary2.keys()"
   ]
  },
  {
   "cell_type": "raw",
   "metadata": {
    "colab_type": "text",
    "id": "aXRChXncNDv6"
   },
   "source": [
    "5.F) Insert key 'Salary' with no value in the dictionary"
   ]
  },
  {
   "cell_type": "code",
   "execution_count": 62,
   "metadata": {
    "colab": {},
    "colab_type": "code",
    "id": "0NCXOqBBNDv6"
   },
   "outputs": [
    {
     "data": {
      "text/plain": [
       "{'a': None, 'e': None, 'i': None, 'o': None, 'u': None, 'Salary': ''}"
      ]
     },
     "execution_count": 62,
     "metadata": {},
     "output_type": "execute_result"
    }
   ],
   "source": [
    "Dictionary2.update({'Salary':''})\n",
    "Dictionary2"
   ]
  },
  {
   "cell_type": "raw",
   "metadata": {
    "colab_type": "text",
    "id": "gLOIs170NDv8"
   },
   "source": [
    "5.G) Insert key-value 3: 'three' inside the dictionary"
   ]
  },
  {
   "cell_type": "code",
   "execution_count": 63,
   "metadata": {
    "colab": {},
    "colab_type": "code",
    "id": "Y0T4-hqSNDv8"
   },
   "outputs": [
    {
     "data": {
      "text/plain": [
       "{'a': None,\n",
       " 'e': None,\n",
       " 'i': None,\n",
       " 'o': None,\n",
       " 'u': None,\n",
       " 'Salary': '',\n",
       " 3: 'three'}"
      ]
     },
     "execution_count": 63,
     "metadata": {},
     "output_type": "execute_result"
    }
   ],
   "source": [
    "Dictionary2.update({3:'three'})\n",
    "Dictionary2"
   ]
  },
  {
   "cell_type": "raw",
   "metadata": {
    "colab_type": "text",
    "id": "_kdovPYmNDv-"
   },
   "source": [
    "5.H)  Fetch only the values from the dictionary"
   ]
  },
  {
   "cell_type": "code",
   "execution_count": 64,
   "metadata": {
    "colab": {},
    "colab_type": "code",
    "id": "xgm5d61jNDv_"
   },
   "outputs": [
    {
     "data": {
      "text/plain": [
       "dict_values([None, None, None, None, None, '', 'three'])"
      ]
     },
     "execution_count": 64,
     "metadata": {},
     "output_type": "execute_result"
    }
   ],
   "source": [
    "Dictionary2.values()"
   ]
  },
  {
   "cell_type": "raw",
   "metadata": {
    "colab_type": "text",
    "id": "UWw4vvDwNDwB"
   },
   "source": [
    "6. Store a number in a variable and check if that variable is equal to 10, If yes, print \"Hello\""
   ]
  },
  {
   "cell_type": "code",
   "execution_count": 66,
   "metadata": {
    "colab": {},
    "colab_type": "code",
    "id": "TYboAoY7NDwB"
   },
   "outputs": [
    {
     "name": "stdout",
     "output_type": "stream",
     "text": [
      "hello\n"
     ]
    }
   ],
   "source": [
    "num=10\n",
    "if num==10:\n",
    "    print(\"hello\")"
   ]
  },
  {
   "cell_type": "raw",
   "metadata": {
    "colab_type": "text",
    "id": "dg8569QWNDwH"
   },
   "source": [
    "7. Store a number in a variable and check if that variable is equal to 10, If yes, print \"Hello\", else print \"Good Bye\""
   ]
  },
  {
   "cell_type": "code",
   "execution_count": 67,
   "metadata": {
    "colab": {},
    "colab_type": "code",
    "id": "b3teYV7_NDwH"
   },
   "outputs": [
    {
     "name": "stdout",
     "output_type": "stream",
     "text": [
      "Hello\n"
     ]
    }
   ],
   "source": [
    "num2=10\n",
    "if num2==10:\n",
    "    print(\"Hello\")\n",
    "else:\n",
    "    print(\"Good Bye\")"
   ]
  },
  {
   "cell_type": "raw",
   "metadata": {
    "colab_type": "text",
    "id": "yV3fY_m2NDwM"
   },
   "source": [
    "8. Get an integer input from user (age of the user), if the number is between 0 to 17 print 'You are a kid', if the number is between 18 to 35 print 'You are in the correct age category', if the number is above 36 print 'you  have crossed the age limit' and if the number is negative print 'enter a positive number'"
   ]
  },
  {
   "cell_type": "code",
   "execution_count": 73,
   "metadata": {
    "colab": {},
    "colab_type": "code",
    "id": "1AaHPavoNDwN"
   },
   "outputs": [
    {
     "name": "stdout",
     "output_type": "stream",
     "text": [
      "Enter your age :34\n",
      "You are in the correct age category\n"
     ]
    }
   ],
   "source": [
    "age=int(input(\"Enter your age :\"))\n",
    "if age>=0 and age<=17:\n",
    "    print(\"You are a kid\")\n",
    "elif age>=18 and age<=35:\n",
    "    print(\"You are in the correct age category\")\n",
    "elif age>36:\n",
    "    print(\"You have crossed age limit\")\n",
    "elif age<0:\n",
    "    print(\"Enter a positive number\")"
   ]
  }
 ],
 "metadata": {
  "colab": {
   "name": "Takehome-Day2 - Only Questions (1).ipynb",
   "provenance": []
  },
  "kernelspec": {
   "display_name": "Python 3",
   "language": "python",
   "name": "python3"
  },
  "language_info": {
   "codemirror_mode": {
    "name": "ipython",
    "version": 3
   },
   "file_extension": ".py",
   "mimetype": "text/x-python",
   "name": "python",
   "nbconvert_exporter": "python",
   "pygments_lexer": "ipython3",
   "version": "3.8.3"
  }
 },
 "nbformat": 4,
 "nbformat_minor": 1
}
